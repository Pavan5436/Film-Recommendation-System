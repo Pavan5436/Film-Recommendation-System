{
 "cells": [
  {
   "cell_type": "code",
   "execution_count": 14,
   "metadata": {},
   "outputs": [],
   "source": [
    "import pandas as pd\n",
    "import numpy as np\n",
    "from sklearn.feature_extraction.text import TfidfVectorizer\n",
    "from sklearn.metrics.pairwise import cosine_similarity\n",
    "from surprise import Dataset, Reader, SVD\n",
    "from surprise.model_selection import train_test_split"
   ]
  },
  {
   "cell_type": "code",
   "execution_count": 15,
   "metadata": {},
   "outputs": [],
   "source": [
    "def load_data():\n",
    "    df = pd.read_csv(\"All_Streaming_Shows.csv\")\n",
    "    df = df[['Series Title', 'Genre', 'Description', 'No of Seasons', 'Streaming Platform']]\n",
    "    df = df.dropna()\n",
    "    return df"
   ]
  },
  {
   "cell_type": "code",
   "execution_count": 16,
   "metadata": {},
   "outputs": [],
   "source": [
    "def content_based_recommendations(df, title):\n",
    "    vectorizer = TfidfVectorizer(stop_words='english')\n",
    "    tfidf_matrix = vectorizer.fit_transform(df['Genre'] + ' ' + df['Description'])\n",
    "    cosine_sim = cosine_similarity(tfidf_matrix, tfidf_matrix)\n",
    "    indices = pd.Series(df.index, index=df['Series Title'])\n",
    "    if title not in indices:\n",
    "        return \"Title not found in dataset.\"\n",
    "    idx = indices[title]\n",
    "    sim_scores = list(enumerate(cosine_sim[idx]))\n",
    "    sim_scores = sorted(sim_scores, key=lambda x: x[1], reverse=True)[1:4]\n",
    "    series_indices = [i[0] for i in sim_scores]\n",
    "    recommendations = df.iloc[series_indices]\n",
    "    return recommendations[['Series Title', 'No of Seasons', 'Streaming Platform']]\n"
   ]
  },
  {
   "cell_type": "code",
   "execution_count": 17,
   "metadata": {},
   "outputs": [],
   "source": [
    "def collaborative_filtering():\n",
    "    data = {\n",
    "        'user_id': [1, 1, 2, 2, 3, 3],\n",
    "        'title': ['Breaking Bad', 'Dark', 'Game of Thrones', 'Money Heist', 'The Witcher', 'Dark'],\n",
    "        'rating': [5, 4, 5, 4, 3, 5]\n",
    "    }\n",
    "    df = pd.DataFrame(data)\n",
    "    reader = Reader(rating_scale=(1, 5))\n",
    "    dataset = Dataset.load_from_df(df[['user_id', 'title', 'rating']], reader)\n",
    "    trainset, testset = train_test_split(dataset, test_size=0.2)\n",
    "    model = SVD()\n",
    "    model.fit(trainset)\n",
    "    \n",
    "    predictions = model.test(testset)\n",
    "    return predictions"
   ]
  },
  {
   "cell_type": "code",
   "execution_count": 18,
   "metadata": {},
   "outputs": [
    {
     "name": "stdout",
     "output_type": "stream",
     "text": [
      "Content-Based Recommendations for 'Dark':\n",
      "         Series Title No of Seasons Streaming Platform\n",
      "633              Safe       1Season            Netflix\n",
      "706  Home Before Dark       1Season          Apple TV+\n",
      "423       The Missing      2Seasons  Prime Video,Starz\n",
      "Collaborative Filtering Predictions:\n",
      "[Prediction(uid=1, iid='Breaking Bad', r_ui=5.0, est=4.001455154014174, details={'was_impossible': False}), Prediction(uid=3, iid='Dark', r_ui=5.0, est=3.6572394185336714, details={'was_impossible': False})]\n"
     ]
    }
   ],
   "source": [
    "df = load_data()\n",
    "print(\"Content-Based Recommendations for 'Dark':\")\n",
    "print(content_based_recommendations(df, 'Dark'))\n",
    "\n",
    "print(\"Collaborative Filtering Predictions:\")\n",
    "print(collaborative_filtering())\n"
   ]
  },
  {
   "cell_type": "code",
   "execution_count": null,
   "metadata": {},
   "outputs": [],
   "source": []
  },
  {
   "cell_type": "code",
   "execution_count": null,
   "metadata": {},
   "outputs": [],
   "source": []
  },
  {
   "cell_type": "code",
   "execution_count": null,
   "metadata": {},
   "outputs": [],
   "source": []
  },
  {
   "cell_type": "code",
   "execution_count": null,
   "metadata": {},
   "outputs": [],
   "source": []
  },
  {
   "cell_type": "code",
   "execution_count": null,
   "metadata": {},
   "outputs": [],
   "source": []
  },
  {
   "cell_type": "code",
   "execution_count": null,
   "metadata": {},
   "outputs": [],
   "source": []
  },
  {
   "cell_type": "code",
   "execution_count": null,
   "metadata": {},
   "outputs": [],
   "source": []
  },
  {
   "cell_type": "code",
   "execution_count": null,
   "metadata": {},
   "outputs": [],
   "source": []
  },
  {
   "cell_type": "code",
   "execution_count": null,
   "metadata": {},
   "outputs": [],
   "source": []
  },
  {
   "cell_type": "code",
   "execution_count": null,
   "metadata": {},
   "outputs": [],
   "source": []
  },
  {
   "cell_type": "code",
   "execution_count": null,
   "metadata": {},
   "outputs": [],
   "source": []
  },
  {
   "cell_type": "code",
   "execution_count": null,
   "metadata": {},
   "outputs": [],
   "source": []
  },
  {
   "cell_type": "code",
   "execution_count": null,
   "metadata": {},
   "outputs": [],
   "source": []
  }
 ],
 "metadata": {
  "kernelspec": {
   "display_name": "Python 3",
   "language": "python",
   "name": "python3"
  },
  "language_info": {
   "codemirror_mode": {
    "name": "ipython",
    "version": 3
   },
   "file_extension": ".py",
   "mimetype": "text/x-python",
   "name": "python",
   "nbconvert_exporter": "python",
   "pygments_lexer": "ipython3",
   "version": "3.12.5"
  }
 },
 "nbformat": 4,
 "nbformat_minor": 2
}
